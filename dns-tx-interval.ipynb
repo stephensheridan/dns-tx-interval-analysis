{
 "cells": [
  {
   "cell_type": "code",
   "execution_count": 52,
   "metadata": {},
   "outputs": [
    {
     "name": "stdout",
     "output_type": "stream",
     "text": [
      "Populating the interactive namespace from numpy and matplotlib\n"
     ]
    },
    {
     "data": {
      "text/plain": [
       "u'0.20.2'"
      ]
     },
     "execution_count": 52,
     "metadata": {},
     "output_type": "execute_result"
    }
   ],
   "source": [
    "import pandas as pd\n",
    "import datetime\n",
    "from scapy.all import *\n",
    "\n",
    "import matplotlib.pyplot as plt\n",
    "\n",
    "%pylab inline\n",
    "#%matplotlib notebook \n",
    "pylab.rcParams['figure.figsize'] = (16, 6)\n",
    "\n",
    "\n",
    "pd.__version__"
   ]
  },
  {
   "cell_type": "code",
   "execution_count": 53,
   "metadata": {},
   "outputs": [],
   "source": [
    "packetList = rdpcap(os.getcwd() + \"/data/\" + \"background.pcap\") #  Read PCAP file into list of packets"
   ]
  },
  {
   "cell_type": "code",
   "execution_count": 54,
   "metadata": {},
   "outputs": [],
   "source": [
    "plist = []\n",
    "for pkt in packetList:\n",
    "    if DNSQR in pkt and pkt.dport == 53:\n",
    "        qtime = datetime.datetime.fromtimestamp(float(pkt.time)).strftime('%Y-%m-%d %H:%M:%S.%f')\n",
    "        #qstring = pkt.qd.qname.decode('ascii')\n",
    "        qstring = pkt.qd.qname\n",
    "        \n",
    "        plist.append((qtime, qstring))\n",
    "\n",
    "df = pd.DataFrame(plist, columns=['Time', 'Query'])\n"
   ]
  },
  {
   "cell_type": "code",
   "execution_count": 55,
   "metadata": {},
   "outputs": [
    {
     "name": "stdout",
     "output_type": "stream",
     "text": [
      "('2014-11-23 18:28:54.306841', 'www.aircrack-ng.org.')\n"
     ]
    },
    {
     "data": {
      "text/html": [
       "<div>\n",
       "<style>\n",
       "    .dataframe thead tr:only-child th {\n",
       "        text-align: right;\n",
       "    }\n",
       "\n",
       "    .dataframe thead th {\n",
       "        text-align: left;\n",
       "    }\n",
       "\n",
       "    .dataframe tbody tr th {\n",
       "        vertical-align: top;\n",
       "    }\n",
       "</style>\n",
       "<table border=\"1\" class=\"dataframe\">\n",
       "  <thead>\n",
       "    <tr style=\"text-align: right;\">\n",
       "      <th></th>\n",
       "      <th>Time</th>\n",
       "      <th>Query</th>\n",
       "    </tr>\n",
       "  </thead>\n",
       "  <tbody>\n",
       "    <tr>\n",
       "      <th>0</th>\n",
       "      <td>2014-11-23 18:28:54.306841</td>\n",
       "      <td>www.aircrack-ng.org.</td>\n",
       "    </tr>\n",
       "    <tr>\n",
       "      <th>1</th>\n",
       "      <td>2014-11-23 18:28:54.306941</td>\n",
       "      <td>www.aircrack-ng.org.</td>\n",
       "    </tr>\n",
       "    <tr>\n",
       "      <th>2</th>\n",
       "      <td>2014-11-23 18:28:54.306986</td>\n",
       "      <td>www.aircrack-ng.org.</td>\n",
       "    </tr>\n",
       "    <tr>\n",
       "      <th>3</th>\n",
       "      <td>2014-11-23 18:28:54.815945</td>\n",
       "      <td>www.aircrack-ng.org.</td>\n",
       "    </tr>\n",
       "    <tr>\n",
       "      <th>4</th>\n",
       "      <td>2014-11-23 18:28:54.816041</td>\n",
       "      <td>www.aircrack-ng.org.</td>\n",
       "    </tr>\n",
       "  </tbody>\n",
       "</table>\n",
       "</div>"
      ],
      "text/plain": [
       "                         Time                 Query\n",
       "0  2014-11-23 18:28:54.306841  www.aircrack-ng.org.\n",
       "1  2014-11-23 18:28:54.306941  www.aircrack-ng.org.\n",
       "2  2014-11-23 18:28:54.306986  www.aircrack-ng.org.\n",
       "3  2014-11-23 18:28:54.815945  www.aircrack-ng.org.\n",
       "4  2014-11-23 18:28:54.816041  www.aircrack-ng.org."
      ]
     },
     "execution_count": 55,
     "metadata": {},
     "output_type": "execute_result"
    }
   ],
   "source": [
    "print plist[0]\n",
    "df.head()"
   ]
  },
  {
   "cell_type": "code",
   "execution_count": 56,
   "metadata": {},
   "outputs": [
    {
     "data": {
      "text/html": [
       "<div>\n",
       "<style>\n",
       "    .dataframe thead tr:only-child th {\n",
       "        text-align: right;\n",
       "    }\n",
       "\n",
       "    .dataframe thead th {\n",
       "        text-align: left;\n",
       "    }\n",
       "\n",
       "    .dataframe tbody tr th {\n",
       "        vertical-align: top;\n",
       "    }\n",
       "</style>\n",
       "<table border=\"1\" class=\"dataframe\">\n",
       "  <thead>\n",
       "    <tr style=\"text-align: right;\">\n",
       "      <th></th>\n",
       "      <th>Time</th>\n",
       "      <th>Query</th>\n",
       "    </tr>\n",
       "    <tr>\n",
       "      <th>Time</th>\n",
       "      <th></th>\n",
       "      <th></th>\n",
       "    </tr>\n",
       "  </thead>\n",
       "  <tbody>\n",
       "    <tr>\n",
       "      <th>2014-11-23 18:28:54.306841</th>\n",
       "      <td>2014-11-23 18:28:54.306841</td>\n",
       "      <td>www.aircrack-ng.org.</td>\n",
       "    </tr>\n",
       "    <tr>\n",
       "      <th>2014-11-23 18:28:54.306941</th>\n",
       "      <td>2014-11-23 18:28:54.306941</td>\n",
       "      <td>www.aircrack-ng.org.</td>\n",
       "    </tr>\n",
       "    <tr>\n",
       "      <th>2014-11-23 18:28:54.306986</th>\n",
       "      <td>2014-11-23 18:28:54.306986</td>\n",
       "      <td>www.aircrack-ng.org.</td>\n",
       "    </tr>\n",
       "    <tr>\n",
       "      <th>2014-11-23 18:28:54.815945</th>\n",
       "      <td>2014-11-23 18:28:54.815945</td>\n",
       "      <td>www.aircrack-ng.org.</td>\n",
       "    </tr>\n",
       "    <tr>\n",
       "      <th>2014-11-23 18:28:54.816041</th>\n",
       "      <td>2014-11-23 18:28:54.816041</td>\n",
       "      <td>www.aircrack-ng.org.</td>\n",
       "    </tr>\n",
       "  </tbody>\n",
       "</table>\n",
       "</div>"
      ],
      "text/plain": [
       "                                                  Time                 Query\n",
       "Time                                                                        \n",
       "2014-11-23 18:28:54.306841  2014-11-23 18:28:54.306841  www.aircrack-ng.org.\n",
       "2014-11-23 18:28:54.306941  2014-11-23 18:28:54.306941  www.aircrack-ng.org.\n",
       "2014-11-23 18:28:54.306986  2014-11-23 18:28:54.306986  www.aircrack-ng.org.\n",
       "2014-11-23 18:28:54.815945  2014-11-23 18:28:54.815945  www.aircrack-ng.org.\n",
       "2014-11-23 18:28:54.816041  2014-11-23 18:28:54.816041  www.aircrack-ng.org."
      ]
     },
     "execution_count": 56,
     "metadata": {},
     "output_type": "execute_result"
    }
   ],
   "source": [
    "df.index = pd.to_datetime(df.Time)\n",
    "df.head()"
   ]
  },
  {
   "cell_type": "code",
   "execution_count": 58,
   "metadata": {},
   "outputs": [
    {
     "name": "stderr",
     "output_type": "stream",
     "text": [
      "/Library/Frameworks/Python.framework/Versions/2.7/lib/python2.7/site-packages/ipykernel_launcher.py:8: SettingWithCopyWarning: modifications to a property of a datetimelike object are not supported and are discarded. Change values on the original.\n",
      "  \n"
     ]
    },
    {
     "data": {
      "image/png": "[encoded data removed]",
      "text/plain": [
       "<matplotlib.figure.Figure at 0x14b64a550>"
      ]
     },
     "metadata": {},
     "output_type": "display_data"
    }
   ],
   "source": [
    "# Is there any pattern or periodicity to the sophosxl queries?\n",
    "#day = dns_queries['2017-06-19 15:00:00' : '2017-06-19 16:00:00']\n",
    "#day = dns_queries[dns_queries.LD2.str.match('mooo')]\n",
    "#print day.head()\n",
    "\n",
    "ser_diff = df.index.to_series().diff()\n",
    "x = ser_diff.dt.seconds\n",
    "x[0] = 0\n",
    "data = x.to_frame()\n",
    "#plt.hist(x, bins=100)\n",
    "ax = data.plot.kde()\n",
    "#ax.set_xlim(0)"
   ]
  },
  {
   "cell_type": "code",
   "execution_count": null,
   "metadata": {},
   "outputs": [],
   "source": []
  }
 ],
 "metadata": {
  "kernelspec": {
   "display_name": "Python 2",
   "language": "python",
   "name": "python2"
  }
 },
 "nbformat": 4,
 "nbformat_minor": 2
}
